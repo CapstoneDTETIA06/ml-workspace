{
 "cells": [
  {
   "cell_type": "markdown",
   "metadata": {},
   "source": [
    "## Import Packages"
   ]
  },
  {
   "cell_type": "code",
   "execution_count": 1,
   "metadata": {},
   "outputs": [],
   "source": [
    "import pandas as pd\n",
    "import numpy as np\n",
    "from matplotlib import pyplot as plt\n",
    "import seaborn as sns\n",
    "from datetime import datetime\n",
    "from sklearn.model_selection import train_test_split\n",
    "from sklearn.linear_model import LinearRegression\n",
    "from sklearn.ensemble import RandomForestRegressor\n",
    "import xgboost as xgb\n",
    "from sklearn.metrics import mean_squared_error, r2_score\n",
    "from sklearn.model_selection import cross_validate, KFold\n",
    "import joblib"
   ]
  },
  {
   "cell_type": "code",
   "execution_count": 2,
   "metadata": {},
   "outputs": [],
   "source": [
    "df = pd.read_csv('../data/interim/2_data_engineered.csv')"
   ]
  },
  {
   "cell_type": "code",
   "execution_count": 3,
   "metadata": {},
   "outputs": [
    {
     "name": "stdout",
     "output_type": "stream",
     "text": [
      "<class 'pandas.core.frame.DataFrame'>\n",
      "RangeIndex: 16 entries, 0 to 15\n",
      "Data columns (total 17 columns):\n",
      " #   Column               Non-Null Count  Dtype  \n",
      "---  ------               --------------  -----  \n",
      " 0   HR_before            16 non-null     float64\n",
      " 1   HR_after             16 non-null     float64\n",
      " 2   age                  16 non-null     float64\n",
      " 3   height               16 non-null     float64\n",
      " 4   weight               16 non-null     float64\n",
      " 5   sex                  16 non-null     float64\n",
      " 6   sp_total_distance    16 non-null     float64\n",
      " 7   sp_average_distance  16 non-null     float64\n",
      " 8   sp_median_distance   16 non-null     float64\n",
      " 9   sp_total_angle       16 non-null     float64\n",
      " 10  sp_average_angle     16 non-null     float64\n",
      " 11  sp_median_angle      16 non-null     float64\n",
      " 12  row_id               16 non-null     float64\n",
      " 13  total_latency        16 non-null     float64\n",
      " 14  mean_latency         16 non-null     float64\n",
      " 15  median_latency       16 non-null     float64\n",
      " 16  vo2_max              16 non-null     float64\n",
      "dtypes: float64(17)\n",
      "memory usage: 2.2 KB\n"
     ]
    }
   ],
   "source": [
    "df.info()"
   ]
  },
  {
   "cell_type": "code",
   "execution_count": 4,
   "metadata": {},
   "outputs": [],
   "source": [
    "df = df.dropna()"
   ]
  },
  {
   "cell_type": "markdown",
   "metadata": {},
   "source": [
    "## Choose your Feature!"
   ]
  },
  {
   "cell_type": "code",
   "execution_count": 5,
   "metadata": {},
   "outputs": [],
   "source": [
    "df = df[['HR_before','vo2_max','sp_average_distance','sp_average_angle','mean_latency']]\n",
    "# df = df[['HR_before','vo2_max','sp_average_distance','sp_average_angle','mean_latency']]"
   ]
  },
  {
   "cell_type": "markdown",
   "metadata": {},
   "source": [
    "## Train Test Split"
   ]
  },
  {
   "cell_type": "code",
   "execution_count": 6,
   "metadata": {},
   "outputs": [],
   "source": [
    "# Assuming 'df' is your DataFrame and 'target_column' is the name of the target variable\n",
    "X = df.drop(columns=['vo2_max'])  # Features (drop the target column)\n",
    "y = df['vo2_max']                 # Target (the column you're predicting)\n",
    "\n",
    "# Perform train-test split\n",
    "X_train, X_test, y_train, y_test = train_test_split(X, y, test_size=0.2, random_state=42)\n"
   ]
  },
  {
   "cell_type": "code",
   "execution_count": 7,
   "metadata": {},
   "outputs": [
    {
     "data": {
      "text/html": [
       "<div>\n",
       "<style scoped>\n",
       "    .dataframe tbody tr th:only-of-type {\n",
       "        vertical-align: middle;\n",
       "    }\n",
       "\n",
       "    .dataframe tbody tr th {\n",
       "        vertical-align: top;\n",
       "    }\n",
       "\n",
       "    .dataframe thead th {\n",
       "        text-align: right;\n",
       "    }\n",
       "</style>\n",
       "<table border=\"1\" class=\"dataframe\">\n",
       "  <thead>\n",
       "    <tr style=\"text-align: right;\">\n",
       "      <th></th>\n",
       "      <th>HR_before</th>\n",
       "      <th>sp_average_distance</th>\n",
       "      <th>sp_average_angle</th>\n",
       "      <th>mean_latency</th>\n",
       "    </tr>\n",
       "  </thead>\n",
       "  <tbody>\n",
       "    <tr>\n",
       "      <th>0</th>\n",
       "      <td>72.0</td>\n",
       "      <td>33.427300</td>\n",
       "      <td>0.098395</td>\n",
       "      <td>819.000000</td>\n",
       "    </tr>\n",
       "    <tr>\n",
       "      <th>1</th>\n",
       "      <td>84.0</td>\n",
       "      <td>27.215296</td>\n",
       "      <td>0.170527</td>\n",
       "      <td>496.000000</td>\n",
       "    </tr>\n",
       "    <tr>\n",
       "      <th>2</th>\n",
       "      <td>94.0</td>\n",
       "      <td>36.672403</td>\n",
       "      <td>0.109743</td>\n",
       "      <td>671.473684</td>\n",
       "    </tr>\n",
       "    <tr>\n",
       "      <th>3</th>\n",
       "      <td>83.0</td>\n",
       "      <td>23.899725</td>\n",
       "      <td>0.084702</td>\n",
       "      <td>573.238095</td>\n",
       "    </tr>\n",
       "    <tr>\n",
       "      <th>4</th>\n",
       "      <td>70.0</td>\n",
       "      <td>23.528027</td>\n",
       "      <td>0.096061</td>\n",
       "      <td>645.600000</td>\n",
       "    </tr>\n",
       "    <tr>\n",
       "      <th>5</th>\n",
       "      <td>68.0</td>\n",
       "      <td>24.317028</td>\n",
       "      <td>0.110522</td>\n",
       "      <td>614.826087</td>\n",
       "    </tr>\n",
       "    <tr>\n",
       "      <th>6</th>\n",
       "      <td>68.0</td>\n",
       "      <td>28.528652</td>\n",
       "      <td>0.078891</td>\n",
       "      <td>677.818182</td>\n",
       "    </tr>\n",
       "    <tr>\n",
       "      <th>7</th>\n",
       "      <td>78.0</td>\n",
       "      <td>28.951215</td>\n",
       "      <td>0.097220</td>\n",
       "      <td>673.571429</td>\n",
       "    </tr>\n",
       "    <tr>\n",
       "      <th>8</th>\n",
       "      <td>85.0</td>\n",
       "      <td>45.482336</td>\n",
       "      <td>0.171649</td>\n",
       "      <td>651.833333</td>\n",
       "    </tr>\n",
       "    <tr>\n",
       "      <th>9</th>\n",
       "      <td>96.0</td>\n",
       "      <td>33.055179</td>\n",
       "      <td>0.148485</td>\n",
       "      <td>776.611111</td>\n",
       "    </tr>\n",
       "    <tr>\n",
       "      <th>10</th>\n",
       "      <td>98.0</td>\n",
       "      <td>45.742453</td>\n",
       "      <td>0.216039</td>\n",
       "      <td>944.352941</td>\n",
       "    </tr>\n",
       "    <tr>\n",
       "      <th>11</th>\n",
       "      <td>110.0</td>\n",
       "      <td>37.745662</td>\n",
       "      <td>0.160417</td>\n",
       "      <td>766.785714</td>\n",
       "    </tr>\n",
       "    <tr>\n",
       "      <th>12</th>\n",
       "      <td>104.0</td>\n",
       "      <td>23.174561</td>\n",
       "      <td>0.091297</td>\n",
       "      <td>746.952381</td>\n",
       "    </tr>\n",
       "    <tr>\n",
       "      <th>13</th>\n",
       "      <td>86.0</td>\n",
       "      <td>26.554734</td>\n",
       "      <td>0.118081</td>\n",
       "      <td>619.937500</td>\n",
       "    </tr>\n",
       "    <tr>\n",
       "      <th>14</th>\n",
       "      <td>69.0</td>\n",
       "      <td>59.396271</td>\n",
       "      <td>0.210336</td>\n",
       "      <td>1034.058824</td>\n",
       "    </tr>\n",
       "    <tr>\n",
       "      <th>15</th>\n",
       "      <td>73.0</td>\n",
       "      <td>30.573308</td>\n",
       "      <td>0.105874</td>\n",
       "      <td>1007.000000</td>\n",
       "    </tr>\n",
       "  </tbody>\n",
       "</table>\n",
       "</div>"
      ],
      "text/plain": [
       "    HR_before  sp_average_distance  sp_average_angle  mean_latency\n",
       "0        72.0            33.427300          0.098395    819.000000\n",
       "1        84.0            27.215296          0.170527    496.000000\n",
       "2        94.0            36.672403          0.109743    671.473684\n",
       "3        83.0            23.899725          0.084702    573.238095\n",
       "4        70.0            23.528027          0.096061    645.600000\n",
       "5        68.0            24.317028          0.110522    614.826087\n",
       "6        68.0            28.528652          0.078891    677.818182\n",
       "7        78.0            28.951215          0.097220    673.571429\n",
       "8        85.0            45.482336          0.171649    651.833333\n",
       "9        96.0            33.055179          0.148485    776.611111\n",
       "10       98.0            45.742453          0.216039    944.352941\n",
       "11      110.0            37.745662          0.160417    766.785714\n",
       "12      104.0            23.174561          0.091297    746.952381\n",
       "13       86.0            26.554734          0.118081    619.937500\n",
       "14       69.0            59.396271          0.210336   1034.058824\n",
       "15       73.0            30.573308          0.105874   1007.000000"
      ]
     },
     "execution_count": 7,
     "metadata": {},
     "output_type": "execute_result"
    }
   ],
   "source": [
    "X"
   ]
  },
  {
   "cell_type": "markdown",
   "metadata": {},
   "source": [
    "## Define Evaluation Metrics Function"
   ]
  },
  {
   "cell_type": "code",
   "execution_count": 8,
   "metadata": {},
   "outputs": [],
   "source": [
    "def evaluate_model(model, model_name, X, y):\n",
    "    kfold = KFold(n_splits=5, shuffle=True, random_state=42)\n",
    "\n",
    "    # Perform 5-fold cross-validation\n",
    "    cv_scores = cross_validate(model, X, y, cv=kfold, scoring=['neg_root_mean_squared_error', 'r2', 'neg_mean_absolute_percentage_error'])\n",
    "\n",
    "    # Extracting individual metrics from the results\n",
    "    rmse_scores = -cv_scores['test_neg_root_mean_squared_error']  # Negate to make positive\n",
    "    # r2_scores = cv_scores['test_r2']\n",
    "    mape_scores = -cv_scores['test_neg_mean_absolute_percentage_error']  # Negate to make positive\n",
    "\n",
    "    # return [model_name, round(float(rmse_scores.mean()),5), round(float(r2_scores.mean()),5), round(float(mape_scores.mean())*100,5)]\n",
    "    return [model_name, round(float(rmse_scores.mean()),5), round(float(mape_scores.mean())*100,5)]"
   ]
  },
  {
   "cell_type": "markdown",
   "metadata": {},
   "source": [
    "## Modelling"
   ]
  },
  {
   "cell_type": "markdown",
   "metadata": {},
   "source": [
    "### Linear Regression"
   ]
  },
  {
   "cell_type": "code",
   "execution_count": 9,
   "metadata": {},
   "outputs": [],
   "source": [
    "# Initialize the Linear Regression model\n",
    "lr = LinearRegression()\n",
    "\n",
    "# Train the model on the training data\n",
    "lr.fit(X_train, y_train)\n",
    "\n",
    "# Make predictions on the test data\n",
    "y_pred_lr = lr.predict(X_test)\n",
    "\n",
    "lr_scores = evaluate_model(lr, 'Linear Regression', X, y)"
   ]
  },
  {
   "cell_type": "markdown",
   "metadata": {},
   "source": [
    "## Random Forest"
   ]
  },
  {
   "cell_type": "code",
   "execution_count": 10,
   "metadata": {},
   "outputs": [],
   "source": [
    "rf = RandomForestRegressor(random_state=42)\n",
    "\n",
    "# rf.fit(X_train, y_train)\n",
    "\n",
    "# y_pred_lr = rf.predict(X_test)\n",
    "\n",
    "rf_scores = evaluate_model(rf, 'Random Forest Regressor', X, y)"
   ]
  },
  {
   "cell_type": "markdown",
   "metadata": {},
   "source": [
    "## XGBoost"
   ]
  },
  {
   "cell_type": "code",
   "execution_count": 11,
   "metadata": {},
   "outputs": [],
   "source": [
    "# Initialize XGBoost model\n",
    "xgb_model = xgb.XGBRegressor(random_state=42)\n",
    "\n",
    "xgb_scores = evaluate_model(xgb_model, 'XGBoost Model', X, y)"
   ]
  },
  {
   "cell_type": "markdown",
   "metadata": {},
   "source": [
    "## Put into dataframe"
   ]
  },
  {
   "cell_type": "code",
   "execution_count": 12,
   "metadata": {},
   "outputs": [
    {
     "data": {
      "text/html": [
       "<div>\n",
       "<style scoped>\n",
       "    .dataframe tbody tr th:only-of-type {\n",
       "        vertical-align: middle;\n",
       "    }\n",
       "\n",
       "    .dataframe tbody tr th {\n",
       "        vertical-align: top;\n",
       "    }\n",
       "\n",
       "    .dataframe thead th {\n",
       "        text-align: right;\n",
       "    }\n",
       "</style>\n",
       "<table border=\"1\" class=\"dataframe\">\n",
       "  <thead>\n",
       "    <tr style=\"text-align: right;\">\n",
       "      <th></th>\n",
       "      <th>Model Name</th>\n",
       "      <th>RMSE</th>\n",
       "      <th>MAPE</th>\n",
       "    </tr>\n",
       "  </thead>\n",
       "  <tbody>\n",
       "    <tr>\n",
       "      <th>0</th>\n",
       "      <td>Linear Regression</td>\n",
       "      <td>2.89406</td>\n",
       "      <td>5.47193</td>\n",
       "    </tr>\n",
       "    <tr>\n",
       "      <th>1</th>\n",
       "      <td>Random Forest Regressor</td>\n",
       "      <td>2.71253</td>\n",
       "      <td>4.95316</td>\n",
       "    </tr>\n",
       "    <tr>\n",
       "      <th>2</th>\n",
       "      <td>XGBoost Model</td>\n",
       "      <td>2.92205</td>\n",
       "      <td>5.58402</td>\n",
       "    </tr>\n",
       "  </tbody>\n",
       "</table>\n",
       "</div>"
      ],
      "text/plain": [
       "                Model Name     RMSE     MAPE\n",
       "0        Linear Regression  2.89406  5.47193\n",
       "1  Random Forest Regressor  2.71253  4.95316\n",
       "2            XGBoost Model  2.92205  5.58402"
      ]
     },
     "execution_count": 12,
     "metadata": {},
     "output_type": "execute_result"
    }
   ],
   "source": [
    "scores = [lr_scores, rf_scores, xgb_scores]\n",
    "scores = pd.DataFrame(scores, columns=['Model Name', 'RMSE', 'MAPE'])\n",
    "scores"
   ]
  },
  {
   "cell_type": "markdown",
   "metadata": {},
   "source": [
    "## Save model into dataframe"
   ]
  },
  {
   "cell_type": "markdown",
   "metadata": {},
   "source": [
    "Since the best model is linear regression, we will save linreg model"
   ]
  },
  {
   "cell_type": "code",
   "execution_count": 13,
   "metadata": {},
   "outputs": [
    {
     "data": {
      "text/plain": [
       "['../models/random_forest_20241107_104222.pkl']"
      ]
     },
     "execution_count": 13,
     "metadata": {},
     "output_type": "execute_result"
    }
   ],
   "source": [
    "# Initialize the Linear Regression model\n",
    "lr = RandomForestRegressor()\n",
    "\n",
    "# Train the model on the training data\n",
    "lr.fit(X, y)\n",
    "\n",
    "# Get the current timestamp\n",
    "timestamp = datetime.now().strftime('%Y%m%d_%H%M%S')\n",
    "\n",
    "# Assuming 'model' is your trained model\n",
    "joblib.dump(lr, f'../models/random_forest_{timestamp}.pkl')"
   ]
  },
  {
   "cell_type": "markdown",
   "metadata": {},
   "source": []
  },
  {
   "cell_type": "markdown",
   "metadata": {},
   "source": []
  },
  {
   "cell_type": "markdown",
   "metadata": {},
   "source": []
  }
 ],
 "metadata": {
  "kernelspec": {
   "display_name": "Python 3",
   "language": "python",
   "name": "python3"
  },
  "language_info": {
   "codemirror_mode": {
    "name": "ipython",
    "version": 3
   },
   "file_extension": ".py",
   "mimetype": "text/x-python",
   "name": "python",
   "nbconvert_exporter": "python",
   "pygments_lexer": "ipython3",
   "version": "3.10.12"
  }
 },
 "nbformat": 4,
 "nbformat_minor": 2
}
