{
 "cells": [
  {
   "cell_type": "markdown",
   "metadata": {},
   "source": [
    "## Import Packages"
   ]
  },
  {
   "cell_type": "code",
   "execution_count": 1,
   "metadata": {},
   "outputs": [],
   "source": [
    "import pandas as pd\n",
    "import numpy as np\n",
    "from matplotlib import pyplot as plt\n",
    "import seaborn as sns\n",
    "import datetime\n",
    "from sklearn.model_selection import train_test_split\n",
    "from sklearn.linear_model import LinearRegression\n",
    "from sklearn.ensemble import RandomForestRegressor\n",
    "import xgboost as xgb\n",
    "from sklearn.metrics import mean_squared_error, r2_score\n",
    "from sklearn.model_selection import cross_validate, KFold\n"
   ]
  },
  {
   "cell_type": "code",
   "execution_count": 2,
   "metadata": {},
   "outputs": [],
   "source": [
    "df = pd.read_csv('../data/interim/2_data_engineered.csv')"
   ]
  },
  {
   "cell_type": "code",
   "execution_count": 3,
   "metadata": {},
   "outputs": [
    {
     "data": {
      "text/html": [
       "<div>\n",
       "<style scoped>\n",
       "    .dataframe tbody tr th:only-of-type {\n",
       "        vertical-align: middle;\n",
       "    }\n",
       "\n",
       "    .dataframe tbody tr th {\n",
       "        vertical-align: top;\n",
       "    }\n",
       "\n",
       "    .dataframe thead th {\n",
       "        text-align: right;\n",
       "    }\n",
       "</style>\n",
       "<table border=\"1\" class=\"dataframe\">\n",
       "  <thead>\n",
       "    <tr style=\"text-align: right;\">\n",
       "      <th></th>\n",
       "      <th>HR_before</th>\n",
       "      <th>HR_after</th>\n",
       "      <th>sp_total_distance</th>\n",
       "      <th>sp_average_distance</th>\n",
       "      <th>sp_median_distance</th>\n",
       "      <th>sp_total_angle</th>\n",
       "      <th>sp_average_angle</th>\n",
       "      <th>sp_median_angle</th>\n",
       "      <th>row_id</th>\n",
       "      <th>total_latency</th>\n",
       "      <th>mean_latency</th>\n",
       "      <th>median_latency</th>\n",
       "    </tr>\n",
       "  </thead>\n",
       "  <tbody>\n",
       "    <tr>\n",
       "      <th>0</th>\n",
       "      <td>72.0</td>\n",
       "      <td>120.0</td>\n",
       "      <td>40146.187277</td>\n",
       "      <td>33.427300</td>\n",
       "      <td>30.113397</td>\n",
       "      <td>118.172835</td>\n",
       "      <td>0.098395</td>\n",
       "      <td>0.056699</td>\n",
       "      <td>1</td>\n",
       "      <td>10647.0</td>\n",
       "      <td>819.000000</td>\n",
       "      <td>500.0</td>\n",
       "    </tr>\n",
       "    <tr>\n",
       "      <th>1</th>\n",
       "      <td>84.0</td>\n",
       "      <td>134.0</td>\n",
       "      <td>32685.571041</td>\n",
       "      <td>27.215296</td>\n",
       "      <td>25.021036</td>\n",
       "      <td>204.802680</td>\n",
       "      <td>0.170527</td>\n",
       "      <td>0.090627</td>\n",
       "      <td>3</td>\n",
       "      <td>10912.0</td>\n",
       "      <td>496.000000</td>\n",
       "      <td>458.5</td>\n",
       "    </tr>\n",
       "    <tr>\n",
       "      <th>2</th>\n",
       "      <td>94.0</td>\n",
       "      <td>146.0</td>\n",
       "      <td>44043.556311</td>\n",
       "      <td>36.672403</td>\n",
       "      <td>35.104838</td>\n",
       "      <td>131.801018</td>\n",
       "      <td>0.109743</td>\n",
       "      <td>0.060777</td>\n",
       "      <td>5</td>\n",
       "      <td>13672.0</td>\n",
       "      <td>683.600000</td>\n",
       "      <td>583.0</td>\n",
       "    </tr>\n",
       "    <tr>\n",
       "      <th>3</th>\n",
       "      <td>83.0</td>\n",
       "      <td>132.0</td>\n",
       "      <td>28703.569543</td>\n",
       "      <td>23.899725</td>\n",
       "      <td>16.529260</td>\n",
       "      <td>101.726948</td>\n",
       "      <td>0.084702</td>\n",
       "      <td>0.033269</td>\n",
       "      <td>9</td>\n",
       "      <td>12038.0</td>\n",
       "      <td>573.238095</td>\n",
       "      <td>541.0</td>\n",
       "    </tr>\n",
       "    <tr>\n",
       "      <th>4</th>\n",
       "      <td>70.0</td>\n",
       "      <td>132.0</td>\n",
       "      <td>28257.159878</td>\n",
       "      <td>23.528027</td>\n",
       "      <td>22.943240</td>\n",
       "      <td>115.369011</td>\n",
       "      <td>0.096061</td>\n",
       "      <td>0.057553</td>\n",
       "      <td>12</td>\n",
       "      <td>12912.0</td>\n",
       "      <td>645.600000</td>\n",
       "      <td>579.0</td>\n",
       "    </tr>\n",
       "  </tbody>\n",
       "</table>\n",
       "</div>"
      ],
      "text/plain": [
       "   HR_before  HR_after  sp_total_distance  sp_average_distance  \\\n",
       "0       72.0     120.0       40146.187277            33.427300   \n",
       "1       84.0     134.0       32685.571041            27.215296   \n",
       "2       94.0     146.0       44043.556311            36.672403   \n",
       "3       83.0     132.0       28703.569543            23.899725   \n",
       "4       70.0     132.0       28257.159878            23.528027   \n",
       "\n",
       "   sp_median_distance  sp_total_angle  sp_average_angle  sp_median_angle  \\\n",
       "0           30.113397      118.172835          0.098395         0.056699   \n",
       "1           25.021036      204.802680          0.170527         0.090627   \n",
       "2           35.104838      131.801018          0.109743         0.060777   \n",
       "3           16.529260      101.726948          0.084702         0.033269   \n",
       "4           22.943240      115.369011          0.096061         0.057553   \n",
       "\n",
       "   row_id  total_latency  mean_latency  median_latency  \n",
       "0       1        10647.0    819.000000           500.0  \n",
       "1       3        10912.0    496.000000           458.5  \n",
       "2       5        13672.0    683.600000           583.0  \n",
       "3       9        12038.0    573.238095           541.0  \n",
       "4      12        12912.0    645.600000           579.0  "
      ]
     },
     "execution_count": 3,
     "metadata": {},
     "output_type": "execute_result"
    }
   ],
   "source": [
    "df.head()"
   ]
  },
  {
   "cell_type": "markdown",
   "metadata": {},
   "source": [
    "## Choose your Feature!"
   ]
  },
  {
   "cell_type": "code",
   "execution_count": 4,
   "metadata": {},
   "outputs": [],
   "source": [
    "df = df[['HR_before','HR_after','sp_median_distance','sp_median_angle','median_latency']]"
   ]
  },
  {
   "cell_type": "markdown",
   "metadata": {},
   "source": [
    "## Train Test Split"
   ]
  },
  {
   "cell_type": "code",
   "execution_count": 5,
   "metadata": {},
   "outputs": [],
   "source": [
    "# Assuming 'df' is your DataFrame and 'target_column' is the name of the target variable\n",
    "X = df.drop(columns=['HR_after'])  # Features (drop the target column)\n",
    "y = df['HR_after']                 # Target (the column you're predicting)\n",
    "\n",
    "# Perform train-test split\n",
    "X_train, X_test, y_train, y_test = train_test_split(X, y, test_size=0.2, random_state=42)\n"
   ]
  },
  {
   "cell_type": "markdown",
   "metadata": {},
   "source": [
    "## Define Evaluation Metrics Function"
   ]
  },
  {
   "cell_type": "code",
   "execution_count": 6,
   "metadata": {},
   "outputs": [],
   "source": [
    "def evaluate_model(model, model_name, X, y):\n",
    "    kfold = KFold(n_splits=5, shuffle=True, random_state=42)\n",
    "\n",
    "    # Perform 5-fold cross-validation\n",
    "    cv_scores = cross_validate(model, X, y, cv=kfold, scoring=['neg_root_mean_squared_error', 'r2', 'neg_mean_absolute_percentage_error'])\n",
    "\n",
    "    # Extracting individual metrics from the results\n",
    "    rmse_scores = -cv_scores['test_neg_root_mean_squared_error']  # Negate to make positive\n",
    "    r2_scores = cv_scores['test_r2']\n",
    "    mape_scores = -cv_scores['test_neg_mean_absolute_percentage_error']  # Negate to make positive\n",
    "\n",
    "    return [model_name, round(float(rmse_scores.mean()),5), round(float(r2_scores.mean()),5), round(float(mape_scores.mean())*100,5)]"
   ]
  },
  {
   "cell_type": "markdown",
   "metadata": {},
   "source": [
    "## Modelling"
   ]
  },
  {
   "cell_type": "markdown",
   "metadata": {},
   "source": [
    "### Linear Regression"
   ]
  },
  {
   "cell_type": "code",
   "execution_count": null,
   "metadata": {},
   "outputs": [],
   "source": [
    "# Initialize the Linear Regression model\n",
    "lr = LinearRegression()\n",
    "\n",
    "# Train the model on the training data\n",
    "lr.fit(X_train, y_train)\n",
    "\n",
    "# Make predictions on the test data\n",
    "y_pred_lr = lr.predict(X_test)\n",
    "\n",
    "lr_scores = evaluate_model(lr, 'Linear Regression', X, y)"
   ]
  },
  {
   "cell_type": "markdown",
   "metadata": {},
   "source": [
    "## Random Forest"
   ]
  },
  {
   "cell_type": "code",
   "execution_count": 8,
   "metadata": {},
   "outputs": [],
   "source": [
    "rf = RandomForestRegressor(random_state=42)\n",
    "\n",
    "# rf.fit(X_train, y_train)\n",
    "\n",
    "# y_pred_lr = rf.predict(X_test)\n",
    "\n",
    "rf_scores = evaluate_model(rf, 'Random Forest Regressor', X, y)"
   ]
  },
  {
   "cell_type": "markdown",
   "metadata": {},
   "source": [
    "## XGBoost"
   ]
  },
  {
   "cell_type": "code",
   "execution_count": 9,
   "metadata": {},
   "outputs": [],
   "source": [
    "# Initialize XGBoost model\n",
    "xgb_model = xgb.XGBRegressor(random_state=42)\n",
    "\n",
    "xgb_scores = evaluate_model(xgb_model, 'XGBoost Model', X, y)"
   ]
  },
  {
   "cell_type": "markdown",
   "metadata": {},
   "source": [
    "## Put into dataframe"
   ]
  },
  {
   "cell_type": "code",
   "execution_count": 10,
   "metadata": {},
   "outputs": [
    {
     "data": {
      "text/html": [
       "<div>\n",
       "<style scoped>\n",
       "    .dataframe tbody tr th:only-of-type {\n",
       "        vertical-align: middle;\n",
       "    }\n",
       "\n",
       "    .dataframe tbody tr th {\n",
       "        vertical-align: top;\n",
       "    }\n",
       "\n",
       "    .dataframe thead th {\n",
       "        text-align: right;\n",
       "    }\n",
       "</style>\n",
       "<table border=\"1\" class=\"dataframe\">\n",
       "  <thead>\n",
       "    <tr style=\"text-align: right;\">\n",
       "      <th></th>\n",
       "      <th>Model Name</th>\n",
       "      <th>RMSE</th>\n",
       "      <th>R2</th>\n",
       "      <th>MAPE</th>\n",
       "    </tr>\n",
       "  </thead>\n",
       "  <tbody>\n",
       "    <tr>\n",
       "      <th>0</th>\n",
       "      <td>Linear Regression</td>\n",
       "      <td>9.49464</td>\n",
       "      <td>-1.10511</td>\n",
       "      <td>6.33866</td>\n",
       "    </tr>\n",
       "    <tr>\n",
       "      <th>1</th>\n",
       "      <td>Random Forest Regressor</td>\n",
       "      <td>10.48184</td>\n",
       "      <td>-1.55527</td>\n",
       "      <td>6.84626</td>\n",
       "    </tr>\n",
       "    <tr>\n",
       "      <th>2</th>\n",
       "      <td>XGBoost Model</td>\n",
       "      <td>10.49842</td>\n",
       "      <td>-1.41772</td>\n",
       "      <td>7.06523</td>\n",
       "    </tr>\n",
       "  </tbody>\n",
       "</table>\n",
       "</div>"
      ],
      "text/plain": [
       "                Model Name      RMSE       R2     MAPE\n",
       "0        Linear Regression   9.49464 -1.10511  6.33866\n",
       "1  Random Forest Regressor  10.48184 -1.55527  6.84626\n",
       "2            XGBoost Model  10.49842 -1.41772  7.06523"
      ]
     },
     "execution_count": 10,
     "metadata": {},
     "output_type": "execute_result"
    }
   ],
   "source": [
    "scores = [lr_scores, rf_scores, xgb_scores]\n",
    "scores = pd.DataFrame(scores, columns=['Model Name', 'RMSE', 'R2', 'MAPE'])\n",
    "scores"
   ]
  }
 ],
 "metadata": {
  "kernelspec": {
   "display_name": ".venv",
   "language": "python",
   "name": "python3"
  },
  "language_info": {
   "codemirror_mode": {
    "name": "ipython",
    "version": 3
   },
   "file_extension": ".py",
   "mimetype": "text/x-python",
   "name": "python",
   "nbconvert_exporter": "python",
   "pygments_lexer": "ipython3",
   "version": "3.10.12"
  }
 },
 "nbformat": 4,
 "nbformat_minor": 2
}
